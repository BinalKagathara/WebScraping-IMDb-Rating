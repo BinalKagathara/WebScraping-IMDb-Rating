{
  "nbformat": 4,
  "nbformat_minor": 0,
  "metadata": {
    "colab": {
      "name": "DS_PR1_18IT045.ipynb",
      "provenance": []
    },
    "kernelspec": {
      "name": "python3",
      "display_name": "Python 3"
    },
    "language_info": {
      "name": "python"
    }
  },
  "cells": [
    {
      "cell_type": "code",
      "metadata": {
        "id": "Gmu5TtDRvkqH"
      },
      "source": [
        "import requests\n",
        "from bs4 import BeautifulSoup\n",
        "import pandas as pd\n",
        "\n",
        "TitleName=[] \n",
        "Year=[] \n",
        "Rating=[]\n",
        "\n",
        "url = \"https://www.imdb.com/chart/top/?ref_=nv_mv_250\"\n",
        "r = requests.get(url).content\n",
        "soup = BeautifulSoup(r, \"html.parser\") \n",
        "list = soup.find(\"tbody\", {\"class\":\"lister-list\"}).find_all(\"tr\")\n",
        "x = 1\n",
        "for i in list:\n",
        "    title = i.find(\"td\",{\"class\":\"titleColumn\"})\n",
        "    year = i.find(\"span\",{\"class\":\"secondaryInfo\"})\n",
        "    rating = i.find(\"td\",{\"class\":\"ratingColumn\"})\n",
        "    \n",
        "    TitleName.append(title.text) \n",
        "    Year.append(year.text)\n",
        "    Rating.append(rating.text)\n",
        "\n",
        "\n",
        "df=pd.DataFrame({'Title' : TitleName,'year':Year,'Rating':Rating})\n",
        "df.to_csv('IMDbRating.csv', index=False, encoding='utf-8')\n",
        "\n"
      ],
      "execution_count": 1,
      "outputs": []
    }
  ]
}